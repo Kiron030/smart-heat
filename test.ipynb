{
 "cells": [
  {
   "cell_type": "markdown",
   "id": "2327bbde",
   "metadata": {},
   "source": [
    "# Introduction to GeoPandas\n",
    "\n",
    "This notebook is self-contained, and has code used in the \"Intro to GeoPandas\" video on our [youtube channel](https://www.youtube.com/channel/UC34uByppapyrr-gubZMd9OQ).  Please feel free to reach out with any questions. \n",
    "\n",
    "Basis für dieses Notbook ist dieses Video: Geospatial Programming: Intro to GeoPandas \n",
    "https://www.youtube.com/watch?v=oFajY3FOq6A"
   ]
  },
  {
   "cell_type": "code",
   "execution_count": 2,
   "id": "cdea0a35",
   "metadata": {
    "scrolled": true,
    "tags": [
     "Importgruppe"
    ]
   },
   "outputs": [],
   "source": [
    "import pandas as pd\n",
    "import geopandas as gpd\n",
    "import papermill as pm"
   ]
  },
  {
   "cell_type": "code",
   "execution_count": null,
   "id": "dae00c40",
   "metadata": {},
   "outputs": [],
   "source": [
    "''' \n",
    "### THIS FIELD DOES NOT WORK YET! ###\n",
    "\n",
    "# Load the energy consumption data for Berlin as a GeoDataFrame\n",
    "energy_data = gpd.read_file('https://raw.githubusercontent.com/OpenDataBerlin/dataset-energieverbrauch-berlin/master/energieverbrauch.geojson')\n",
    "\n",
    "# Set the coordinate reference system (CRS) to WGS 84 (EPSG:4326)\n",
    "energy_data.crs = {'init': 'epsg:4326'}\n",
    "\n",
    "# Print the first few rows of the energy data\n",
    "print(energy_data.head())\n",
    "\n",
    "# Group the energy data by neighborhood and sum the energy consumption\n",
    "energy_by_neighborhood = energy_data.groupby('gebaeude_typ').sum()\n",
    "\n",
    "# Print the energy consumption by neighborhood\n",
    "print(energy_by_neighborhood)\n",
    "\n",
    "# Plot the energy consumption data on a map of Berlin\n",
    "energy_data.plot(column='energieverbrauch', cmap='Reds', legend=True)\n",
    "'''"
   ]
  },
  {
   "cell_type": "markdown",
   "id": "3d48c826",
   "metadata": {},
   "source": [
    "### Hier ein Einschub für a. den Testeinsatz von Papermill und b. Lesen eines Shape-Files"
   ]
  },
  {
   "cell_type": "code",
   "execution_count": 4,
   "id": "52ffc830",
   "metadata": {},
   "outputs": [
    {
     "data": {
      "text/plain": [
       "{}"
      ]
     },
     "execution_count": 4,
     "metadata": {},
     "output_type": "execute_result"
    }
   ],
   "source": [
    "pm.inspect_notebook(r\"C:\\Users\\User\\Desktop\\Workbench\\Programmieren\\Python\\GeoPandas\\Geopandas-main\\Geopandas-main\\Intro to Geopandas\\DC Construction.ipynb\")"
   ]
  },
  {
   "cell_type": "code",
   "execution_count": 6,
   "id": "14d100df",
   "metadata": {},
   "outputs": [],
   "source": [
    "plz_berlin = gpd.read_file(r\"C:\\Users\\User\\Desktop\\Workbench\\GIS\\Tests für OpenData 11.2022\\Postleitzahlengebiete_-_Berlin\\PLZ_Berlin.shp\")"
   ]
  },
  {
   "cell_type": "code",
   "execution_count": 7,
   "id": "59709a1b",
   "metadata": {},
   "outputs": [
    {
     "data": {
      "text/html": [
       "<div>\n",
       "<style scoped>\n",
       "    .dataframe tbody tr th:only-of-type {\n",
       "        vertical-align: middle;\n",
       "    }\n",
       "\n",
       "    .dataframe tbody tr th {\n",
       "        vertical-align: top;\n",
       "    }\n",
       "\n",
       "    .dataframe thead th {\n",
       "        text-align: right;\n",
       "    }\n",
       "</style>\n",
       "<table border=\"1\" class=\"dataframe\">\n",
       "  <thead>\n",
       "    <tr style=\"text-align: right;\">\n",
       "      <th></th>\n",
       "      <th>OBJECTID</th>\n",
       "      <th>PLZ</th>\n",
       "      <th>SHAPE_Leng</th>\n",
       "      <th>SHAPE_Area</th>\n",
       "      <th>geometry</th>\n",
       "    </tr>\n",
       "  </thead>\n",
       "  <tbody>\n",
       "    <tr>\n",
       "      <th>81</th>\n",
       "      <td>82</td>\n",
       "      <td>15566</td>\n",
       "      <td>0.000837</td>\n",
       "      <td>3.224382e-08</td>\n",
       "      <td>POLYGON ((13.70530 52.45964, 13.70526 52.45987...</td>\n",
       "    </tr>\n",
       "    <tr>\n",
       "      <th>173</th>\n",
       "      <td>174</td>\n",
       "      <td>15569</td>\n",
       "      <td>0.001809</td>\n",
       "      <td>1.609616e-07</td>\n",
       "      <td>POLYGON ((13.75592 52.44609, 13.75592 52.44609...</td>\n",
       "    </tr>\n",
       "    <tr>\n",
       "      <th>90</th>\n",
       "      <td>91</td>\n",
       "      <td>15537</td>\n",
       "      <td>0.004512</td>\n",
       "      <td>8.816481e-07</td>\n",
       "      <td>POLYGON ((13.68803 52.38605, 13.68791 52.38583...</td>\n",
       "    </tr>\n",
       "    <tr>\n",
       "      <th>101</th>\n",
       "      <td>102</td>\n",
       "      <td>10789</td>\n",
       "      <td>0.049638</td>\n",
       "      <td>5.903090e-05</td>\n",
       "      <td>POLYGON ((13.33445 52.50537, 13.33705 52.50513...</td>\n",
       "    </tr>\n",
       "    <tr>\n",
       "      <th>35</th>\n",
       "      <td>36</td>\n",
       "      <td>10823</td>\n",
       "      <td>0.069576</td>\n",
       "      <td>6.652315e-05</td>\n",
       "      <td>POLYGON ((13.36060 52.49093, 13.36026 52.49044...</td>\n",
       "    </tr>\n",
       "    <tr>\n",
       "      <th>...</th>\n",
       "      <td>...</td>\n",
       "      <td>...</td>\n",
       "      <td>...</td>\n",
       "      <td>...</td>\n",
       "      <td>...</td>\n",
       "    </tr>\n",
       "    <tr>\n",
       "      <th>126</th>\n",
       "      <td>127</td>\n",
       "      <td>13125</td>\n",
       "      <td>0.348776</td>\n",
       "      <td>2.972200e-03</td>\n",
       "      <td>MULTIPOLYGON (((13.50545 52.61989, 13.50545 52...</td>\n",
       "    </tr>\n",
       "    <tr>\n",
       "      <th>80</th>\n",
       "      <td>81</td>\n",
       "      <td>14089</td>\n",
       "      <td>0.242876</td>\n",
       "      <td>3.291740e-03</td>\n",
       "      <td>POLYGON ((13.16763 52.50101, 13.16820 52.50097...</td>\n",
       "    </tr>\n",
       "    <tr>\n",
       "      <th>150</th>\n",
       "      <td>151</td>\n",
       "      <td>14109</td>\n",
       "      <td>0.397777</td>\n",
       "      <td>3.332425e-03</td>\n",
       "      <td>POLYGON ((13.12312 52.43961, 13.12411 52.44068...</td>\n",
       "    </tr>\n",
       "    <tr>\n",
       "      <th>190</th>\n",
       "      <td>191</td>\n",
       "      <td>12527</td>\n",
       "      <td>0.522641</td>\n",
       "      <td>3.460591e-03</td>\n",
       "      <td>POLYGON ((13.69435 52.38801, 13.69417 52.38784...</td>\n",
       "    </tr>\n",
       "    <tr>\n",
       "      <th>171</th>\n",
       "      <td>172</td>\n",
       "      <td>12559</td>\n",
       "      <td>0.456109</td>\n",
       "      <td>4.804776e-03</td>\n",
       "      <td>MULTIPOLYGON (((13.58209 52.44246, 13.58184 52...</td>\n",
       "    </tr>\n",
       "  </tbody>\n",
       "</table>\n",
       "<p>193 rows × 5 columns</p>\n",
       "</div>"
      ],
      "text/plain": [
       "     OBJECTID    PLZ  SHAPE_Leng    SHAPE_Area  \\\n",
       "81         82  15566    0.000837  3.224382e-08   \n",
       "173       174  15569    0.001809  1.609616e-07   \n",
       "90         91  15537    0.004512  8.816481e-07   \n",
       "101       102  10789    0.049638  5.903090e-05   \n",
       "35         36  10823    0.069576  6.652315e-05   \n",
       "..        ...    ...         ...           ...   \n",
       "126       127  13125    0.348776  2.972200e-03   \n",
       "80         81  14089    0.242876  3.291740e-03   \n",
       "150       151  14109    0.397777  3.332425e-03   \n",
       "190       191  12527    0.522641  3.460591e-03   \n",
       "171       172  12559    0.456109  4.804776e-03   \n",
       "\n",
       "                                              geometry  \n",
       "81   POLYGON ((13.70530 52.45964, 13.70526 52.45987...  \n",
       "173  POLYGON ((13.75592 52.44609, 13.75592 52.44609...  \n",
       "90   POLYGON ((13.68803 52.38605, 13.68791 52.38583...  \n",
       "101  POLYGON ((13.33445 52.50537, 13.33705 52.50513...  \n",
       "35   POLYGON ((13.36060 52.49093, 13.36026 52.49044...  \n",
       "..                                                 ...  \n",
       "126  MULTIPOLYGON (((13.50545 52.61989, 13.50545 52...  \n",
       "80   POLYGON ((13.16763 52.50101, 13.16820 52.50097...  \n",
       "150  POLYGON ((13.12312 52.43961, 13.12411 52.44068...  \n",
       "190  POLYGON ((13.69435 52.38801, 13.69417 52.38784...  \n",
       "171  MULTIPOLYGON (((13.58209 52.44246, 13.58184 52...  \n",
       "\n",
       "[193 rows x 5 columns]"
      ]
     },
     "execution_count": 7,
     "metadata": {},
     "output_type": "execute_result"
    }
   ],
   "source": [
    "plz_berlin.sort_values(by=['SHAPE_Area'])"
   ]
  },
  {
   "cell_type": "code",
   "execution_count": 8,
   "id": "44d66ecd",
   "metadata": {},
   "outputs": [
    {
     "data": {
      "text/plain": [
       "geopandas.geodataframe.GeoDataFrame"
      ]
     },
     "execution_count": 8,
     "metadata": {},
     "output_type": "execute_result"
    }
   ],
   "source": [
    "type(plz_berlin)"
   ]
  },
  {
   "cell_type": "code",
   "execution_count": 9,
   "id": "d12f67f8",
   "metadata": {},
   "outputs": [
    {
     "data": {
      "text/html": [
       "<div>\n",
       "<style scoped>\n",
       "    .dataframe tbody tr th:only-of-type {\n",
       "        vertical-align: middle;\n",
       "    }\n",
       "\n",
       "    .dataframe tbody tr th {\n",
       "        vertical-align: top;\n",
       "    }\n",
       "\n",
       "    .dataframe thead th {\n",
       "        text-align: right;\n",
       "    }\n",
       "</style>\n",
       "<table border=\"1\" class=\"dataframe\">\n",
       "  <thead>\n",
       "    <tr style=\"text-align: right;\">\n",
       "      <th></th>\n",
       "      <th>OBJECTID</th>\n",
       "      <th>PLZ</th>\n",
       "      <th>SHAPE_Leng</th>\n",
       "      <th>SHAPE_Area</th>\n",
       "      <th>geometry</th>\n",
       "    </tr>\n",
       "  </thead>\n",
       "  <tbody>\n",
       "    <tr>\n",
       "      <th>0</th>\n",
       "      <td>1</td>\n",
       "      <td>13347</td>\n",
       "      <td>0.128382</td>\n",
       "      <td>0.000216</td>\n",
       "      <td>POLYGON ((13.37450 52.53749, 13.37459 52.53791...</td>\n",
       "    </tr>\n",
       "    <tr>\n",
       "      <th>1</th>\n",
       "      <td>2</td>\n",
       "      <td>12047</td>\n",
       "      <td>0.054753</td>\n",
       "      <td>0.000069</td>\n",
       "      <td>POLYGON ((13.42578 52.48724, 13.42561 52.48756...</td>\n",
       "    </tr>\n",
       "    <tr>\n",
       "      <th>2</th>\n",
       "      <td>3</td>\n",
       "      <td>12161</td>\n",
       "      <td>0.072135</td>\n",
       "      <td>0.000128</td>\n",
       "      <td>POLYGON ((13.32816 52.46433, 13.32798 52.46444...</td>\n",
       "    </tr>\n",
       "    <tr>\n",
       "      <th>3</th>\n",
       "      <td>4</td>\n",
       "      <td>14053</td>\n",
       "      <td>0.078732</td>\n",
       "      <td>0.000211</td>\n",
       "      <td>POLYGON ((13.25085 52.51298, 13.25076 52.51259...</td>\n",
       "    </tr>\n",
       "    <tr>\n",
       "      <th>4</th>\n",
       "      <td>5</td>\n",
       "      <td>10589</td>\n",
       "      <td>0.068334</td>\n",
       "      <td>0.000241</td>\n",
       "      <td>POLYGON ((13.31161 52.53510, 13.31180 52.53460...</td>\n",
       "    </tr>\n",
       "    <tr>\n",
       "      <th>5</th>\n",
       "      <td>6</td>\n",
       "      <td>10407</td>\n",
       "      <td>0.129341</td>\n",
       "      <td>0.000370</td>\n",
       "      <td>POLYGON ((13.45700 52.54265, 13.45764 52.54236...</td>\n",
       "    </tr>\n",
       "    <tr>\n",
       "      <th>6</th>\n",
       "      <td>7</td>\n",
       "      <td>10585</td>\n",
       "      <td>0.088557</td>\n",
       "      <td>0.000102</td>\n",
       "      <td>POLYGON ((13.29966 52.52112, 13.29995 52.52103...</td>\n",
       "    </tr>\n",
       "    <tr>\n",
       "      <th>7</th>\n",
       "      <td>8</td>\n",
       "      <td>10967</td>\n",
       "      <td>0.071422</td>\n",
       "      <td>0.000156</td>\n",
       "      <td>POLYGON ((13.42393 52.48628, 13.42365 52.48606...</td>\n",
       "    </tr>\n",
       "    <tr>\n",
       "      <th>8</th>\n",
       "      <td>9</td>\n",
       "      <td>12051</td>\n",
       "      <td>0.089192</td>\n",
       "      <td>0.000203</td>\n",
       "      <td>POLYGON ((13.44329 52.46370, 13.44309 52.46367...</td>\n",
       "    </tr>\n",
       "    <tr>\n",
       "      <th>9</th>\n",
       "      <td>10</td>\n",
       "      <td>10247</td>\n",
       "      <td>0.085805</td>\n",
       "      <td>0.000237</td>\n",
       "      <td>POLYGON ((13.47061 52.52057, 13.47066 52.52057...</td>\n",
       "    </tr>\n",
       "    <tr>\n",
       "      <th>10</th>\n",
       "      <td>11</td>\n",
       "      <td>12099</td>\n",
       "      <td>0.155134</td>\n",
       "      <td>0.000834</td>\n",
       "      <td>POLYGON ((13.38464 52.45282, 13.38450 52.45281...</td>\n",
       "    </tr>\n",
       "    <tr>\n",
       "      <th>11</th>\n",
       "      <td>12</td>\n",
       "      <td>13158</td>\n",
       "      <td>0.222252</td>\n",
       "      <td>0.000912</td>\n",
       "      <td>POLYGON ((13.37579 52.60702, 13.37581 52.60701...</td>\n",
       "    </tr>\n",
       "    <tr>\n",
       "      <th>12</th>\n",
       "      <td>13</td>\n",
       "      <td>10781</td>\n",
       "      <td>0.061375</td>\n",
       "      <td>0.000094</td>\n",
       "      <td>POLYGON ((13.35523 52.49759, 13.35565 52.49749...</td>\n",
       "    </tr>\n",
       "    <tr>\n",
       "      <th>13</th>\n",
       "      <td>14</td>\n",
       "      <td>14195</td>\n",
       "      <td>0.228733</td>\n",
       "      <td>0.001071</td>\n",
       "      <td>POLYGON ((13.30702 52.45957, 13.30710 52.45934...</td>\n",
       "    </tr>\n",
       "    <tr>\n",
       "      <th>14</th>\n",
       "      <td>15</td>\n",
       "      <td>12059</td>\n",
       "      <td>0.099059</td>\n",
       "      <td>0.000161</td>\n",
       "      <td>MULTIPOLYGON (((13.43966 52.48991, 13.43998 52...</td>\n",
       "    </tr>\n",
       "    <tr>\n",
       "      <th>15</th>\n",
       "      <td>16</td>\n",
       "      <td>10825</td>\n",
       "      <td>0.052094</td>\n",
       "      <td>0.000091</td>\n",
       "      <td>POLYGON ((13.33706 52.47852, 13.33707 52.47868...</td>\n",
       "    </tr>\n",
       "    <tr>\n",
       "      <th>16</th>\n",
       "      <td>17</td>\n",
       "      <td>13595</td>\n",
       "      <td>0.149906</td>\n",
       "      <td>0.000703</td>\n",
       "      <td>POLYGON ((13.21644 52.51165, 13.21620 52.51134...</td>\n",
       "    </tr>\n",
       "    <tr>\n",
       "      <th>17</th>\n",
       "      <td>18</td>\n",
       "      <td>13088</td>\n",
       "      <td>0.204572</td>\n",
       "      <td>0.000901</td>\n",
       "      <td>POLYGON ((13.46984 52.54046, 13.46731 52.53849...</td>\n",
       "    </tr>\n",
       "    <tr>\n",
       "      <th>18</th>\n",
       "      <td>19</td>\n",
       "      <td>10625</td>\n",
       "      <td>0.066252</td>\n",
       "      <td>0.000083</td>\n",
       "      <td>POLYGON ((13.30949 52.51202, 13.31010 52.51235...</td>\n",
       "    </tr>\n",
       "    <tr>\n",
       "      <th>19</th>\n",
       "      <td>20</td>\n",
       "      <td>13127</td>\n",
       "      <td>0.310884</td>\n",
       "      <td>0.001993</td>\n",
       "      <td>POLYGON ((13.45283 52.61223, 13.45260 52.61209...</td>\n",
       "    </tr>\n",
       "    <tr>\n",
       "      <th>20</th>\n",
       "      <td>21</td>\n",
       "      <td>13505</td>\n",
       "      <td>0.198100</td>\n",
       "      <td>0.001382</td>\n",
       "      <td>POLYGON ((13.21739 52.58748, 13.21801 52.58872...</td>\n",
       "    </tr>\n",
       "    <tr>\n",
       "      <th>21</th>\n",
       "      <td>22</td>\n",
       "      <td>14169</td>\n",
       "      <td>0.209088</td>\n",
       "      <td>0.000674</td>\n",
       "      <td>POLYGON ((13.28311 52.44218, 13.28308 52.44210...</td>\n",
       "    </tr>\n",
       "    <tr>\n",
       "      <th>22</th>\n",
       "      <td>23</td>\n",
       "      <td>14199</td>\n",
       "      <td>0.123828</td>\n",
       "      <td>0.000319</td>\n",
       "      <td>POLYGON ((13.27930 52.47470, 13.27888 52.47502...</td>\n",
       "    </tr>\n",
       "    <tr>\n",
       "      <th>23</th>\n",
       "      <td>24</td>\n",
       "      <td>10119</td>\n",
       "      <td>0.079881</td>\n",
       "      <td>0.000129</td>\n",
       "      <td>POLYGON ((13.40118 52.53600, 13.40128 52.53596...</td>\n",
       "    </tr>\n",
       "    <tr>\n",
       "      <th>24</th>\n",
       "      <td>25</td>\n",
       "      <td>13591</td>\n",
       "      <td>0.227264</td>\n",
       "      <td>0.001179</td>\n",
       "      <td>POLYGON ((13.14422 52.55212, 13.14388 52.55190...</td>\n",
       "    </tr>\n",
       "    <tr>\n",
       "      <th>25</th>\n",
       "      <td>26</td>\n",
       "      <td>13583</td>\n",
       "      <td>0.103138</td>\n",
       "      <td>0.000312</td>\n",
       "      <td>POLYGON ((13.19161 52.55323, 13.19014 52.55123...</td>\n",
       "    </tr>\n",
       "    <tr>\n",
       "      <th>26</th>\n",
       "      <td>27</td>\n",
       "      <td>13597</td>\n",
       "      <td>0.169306</td>\n",
       "      <td>0.000767</td>\n",
       "      <td>POLYGON ((13.24668 52.52831, 13.24658 52.52812...</td>\n",
       "    </tr>\n",
       "    <tr>\n",
       "      <th>27</th>\n",
       "      <td>28</td>\n",
       "      <td>12307</td>\n",
       "      <td>0.160374</td>\n",
       "      <td>0.000545</td>\n",
       "      <td>POLYGON ((13.36559 52.39860, 13.36851 52.39882...</td>\n",
       "    </tr>\n",
       "    <tr>\n",
       "      <th>28</th>\n",
       "      <td>29</td>\n",
       "      <td>12357</td>\n",
       "      <td>0.147079</td>\n",
       "      <td>0.000502</td>\n",
       "      <td>POLYGON ((13.51339 52.42438, 13.51429 52.42410...</td>\n",
       "    </tr>\n",
       "    <tr>\n",
       "      <th>29</th>\n",
       "      <td>30</td>\n",
       "      <td>10779</td>\n",
       "      <td>0.053190</td>\n",
       "      <td>0.000068</td>\n",
       "      <td>POLYGON ((13.33183 52.49560, 13.33246 52.49545...</td>\n",
       "    </tr>\n",
       "  </tbody>\n",
       "</table>\n",
       "</div>"
      ],
      "text/plain": [
       "    OBJECTID    PLZ  SHAPE_Leng  SHAPE_Area  \\\n",
       "0          1  13347    0.128382    0.000216   \n",
       "1          2  12047    0.054753    0.000069   \n",
       "2          3  12161    0.072135    0.000128   \n",
       "3          4  14053    0.078732    0.000211   \n",
       "4          5  10589    0.068334    0.000241   \n",
       "5          6  10407    0.129341    0.000370   \n",
       "6          7  10585    0.088557    0.000102   \n",
       "7          8  10967    0.071422    0.000156   \n",
       "8          9  12051    0.089192    0.000203   \n",
       "9         10  10247    0.085805    0.000237   \n",
       "10        11  12099    0.155134    0.000834   \n",
       "11        12  13158    0.222252    0.000912   \n",
       "12        13  10781    0.061375    0.000094   \n",
       "13        14  14195    0.228733    0.001071   \n",
       "14        15  12059    0.099059    0.000161   \n",
       "15        16  10825    0.052094    0.000091   \n",
       "16        17  13595    0.149906    0.000703   \n",
       "17        18  13088    0.204572    0.000901   \n",
       "18        19  10625    0.066252    0.000083   \n",
       "19        20  13127    0.310884    0.001993   \n",
       "20        21  13505    0.198100    0.001382   \n",
       "21        22  14169    0.209088    0.000674   \n",
       "22        23  14199    0.123828    0.000319   \n",
       "23        24  10119    0.079881    0.000129   \n",
       "24        25  13591    0.227264    0.001179   \n",
       "25        26  13583    0.103138    0.000312   \n",
       "26        27  13597    0.169306    0.000767   \n",
       "27        28  12307    0.160374    0.000545   \n",
       "28        29  12357    0.147079    0.000502   \n",
       "29        30  10779    0.053190    0.000068   \n",
       "\n",
       "                                             geometry  \n",
       "0   POLYGON ((13.37450 52.53749, 13.37459 52.53791...  \n",
       "1   POLYGON ((13.42578 52.48724, 13.42561 52.48756...  \n",
       "2   POLYGON ((13.32816 52.46433, 13.32798 52.46444...  \n",
       "3   POLYGON ((13.25085 52.51298, 13.25076 52.51259...  \n",
       "4   POLYGON ((13.31161 52.53510, 13.31180 52.53460...  \n",
       "5   POLYGON ((13.45700 52.54265, 13.45764 52.54236...  \n",
       "6   POLYGON ((13.29966 52.52112, 13.29995 52.52103...  \n",
       "7   POLYGON ((13.42393 52.48628, 13.42365 52.48606...  \n",
       "8   POLYGON ((13.44329 52.46370, 13.44309 52.46367...  \n",
       "9   POLYGON ((13.47061 52.52057, 13.47066 52.52057...  \n",
       "10  POLYGON ((13.38464 52.45282, 13.38450 52.45281...  \n",
       "11  POLYGON ((13.37579 52.60702, 13.37581 52.60701...  \n",
       "12  POLYGON ((13.35523 52.49759, 13.35565 52.49749...  \n",
       "13  POLYGON ((13.30702 52.45957, 13.30710 52.45934...  \n",
       "14  MULTIPOLYGON (((13.43966 52.48991, 13.43998 52...  \n",
       "15  POLYGON ((13.33706 52.47852, 13.33707 52.47868...  \n",
       "16  POLYGON ((13.21644 52.51165, 13.21620 52.51134...  \n",
       "17  POLYGON ((13.46984 52.54046, 13.46731 52.53849...  \n",
       "18  POLYGON ((13.30949 52.51202, 13.31010 52.51235...  \n",
       "19  POLYGON ((13.45283 52.61223, 13.45260 52.61209...  \n",
       "20  POLYGON ((13.21739 52.58748, 13.21801 52.58872...  \n",
       "21  POLYGON ((13.28311 52.44218, 13.28308 52.44210...  \n",
       "22  POLYGON ((13.27930 52.47470, 13.27888 52.47502...  \n",
       "23  POLYGON ((13.40118 52.53600, 13.40128 52.53596...  \n",
       "24  POLYGON ((13.14422 52.55212, 13.14388 52.55190...  \n",
       "25  POLYGON ((13.19161 52.55323, 13.19014 52.55123...  \n",
       "26  POLYGON ((13.24668 52.52831, 13.24658 52.52812...  \n",
       "27  POLYGON ((13.36559 52.39860, 13.36851 52.39882...  \n",
       "28  POLYGON ((13.51339 52.42438, 13.51429 52.42410...  \n",
       "29  POLYGON ((13.33183 52.49560, 13.33246 52.49545...  "
      ]
     },
     "execution_count": 9,
     "metadata": {},
     "output_type": "execute_result"
    }
   ],
   "source": [
    "plz_berlin.head(30)"
   ]
  },
  {
   "cell_type": "code",
   "execution_count": 10,
   "id": "4f488536",
   "metadata": {},
   "outputs": [
    {
     "data": {
      "text/plain": [
       "<Geographic 2D CRS: EPSG:4326>\n",
       "Name: WGS 84\n",
       "Axis Info [ellipsoidal]:\n",
       "- Lat[north]: Geodetic latitude (degree)\n",
       "- Lon[east]: Geodetic longitude (degree)\n",
       "Area of Use:\n",
       "- name: World.\n",
       "- bounds: (-180.0, -90.0, 180.0, 90.0)\n",
       "Datum: World Geodetic System 1984 ensemble\n",
       "- Ellipsoid: WGS 84\n",
       "- Prime Meridian: Greenwich"
      ]
     },
     "execution_count": 10,
     "metadata": {},
     "output_type": "execute_result"
    }
   ],
   "source": [
    "plz_berlin.crs"
   ]
  },
  {
   "cell_type": "code",
   "execution_count": 11,
   "id": "dc07159c",
   "metadata": {},
   "outputs": [],
   "source": [
    "plz_berlin_one = plz_berlin[plz_berlin['PLZ'] == \"10115\"]"
   ]
  },
  {
   "cell_type": "code",
   "execution_count": 12,
   "id": "43628e14",
   "metadata": {},
   "outputs": [
    {
     "name": "stdout",
     "output_type": "stream",
     "text": [
      "     OBJECTID    PLZ  SHAPE_Leng  SHAPE_Area  \\\n",
      "162       163  10115    0.133587    0.000306   \n",
      "\n",
      "                                              geometry  \n",
      "162  POLYGON ((13.37375 52.52780, 13.37367 52.52791...  \n"
     ]
    }
   ],
   "source": [
    "print(plz_berlin_one)"
   ]
  },
  {
   "cell_type": "code",
   "execution_count": 13,
   "id": "101fe7a9",
   "metadata": {
    "scrolled": true
   },
   "outputs": [
    {
     "data": {
      "text/plain": [
       "<AxesSubplot: >"
      ]
     },
     "execution_count": 13,
     "metadata": {},
     "output_type": "execute_result"
    },
    {
     "data": {
      "image/png": "[encoded data removed]",
      "text/plain": [
       "<Figure size 640x480 with 1 Axes>"
      ]
     },
     "metadata": {},
     "output_type": "display_data"
    }
   ],
   "source": [
    "plz_berlin_one.plot()"
   ]
  },
  {
   "cell_type": "markdown",
   "id": "d209480d",
   "metadata": {},
   "source": [
    "## Read in the Neighborhood Laydown"
   ]
  },
  {
   "cell_type": "code",
   "execution_count": null,
   "id": "0421fff5",
   "metadata": {},
   "outputs": [],
   "source": [
    "# Links to pull data from the DC OpenData portal\n",
    "\n",
    "neighborhood_laydown = \"https://opendata.arcgis.com/datasets/f6c703ebe2534fc3800609a07bad8f5b_17.geojson\"\n",
    "# If this url fails, you can download the geojson from here: https://dc.esri.com/datasets/dcdev::dc-neighborhood-clusters-1\"\n",
    "\n",
    "datasets = {\n",
    "    \"2021\": \"https://opendata.arcgis.com/datasets/da3da798fb4f4f0e9de5c3a17c39351f_10.geojson\",\n",
    "    \"2020\": \"https://opendata.arcgis.com/datasets/ac617c291bbd466bbbea6272f87811d3_8.geojson\",\n",
    "    \"2019\": \"https://opendata.arcgis.com/datasets/107f535e5d3347a8ac1e46dbc13669d4_6.geojson\",\n",
    "    \"2018\": \"https://opendata.arcgis.com/datasets/ca581e1b455a46caa266e3476f8205d2_0.geojson\",\n",
    "    \"2017\": \"https://opendata.arcgis.com/datasets/585c8c3ef58c4f1ab1ddf1c759b3a8bd_39.geojson\",\n",
    "    \"2016\": \"https://opendata.arcgis.com/datasets/2dc1a7dbb705471eb38af39acfa16238_28.geojson\", \n",
    "    \"2015\": \"https://opendata.arcgis.com/datasets/b3283607f9b74457aff420081eec3190_29.geojson\",\n",
    "    \"2014\": \"https://opendata.arcgis.com/datasets/54b57e15f6944af8b413a5e4f88b070c_13.geojson\",\n",
    "    \"2013\": \"https://opendata.arcgis.com/datasets/3d49e06d51984fa2b68f21eed21eba1f_14.geojson\",\n",
    "    \"2012\": \"https://opendata.arcgis.com/datasets/9cbe8553d4e2456ab6c140d83c7e83e0_15.geojson\"\n",
    "}"
   ]
  },
  {
   "cell_type": "code",
   "execution_count": null,
   "id": "9eb09548",
   "metadata": {},
   "outputs": [],
   "source": [
    "gdf_neigh = gpd.read_file(neighborhood_laydown)"
   ]
  },
  {
   "cell_type": "code",
   "execution_count": null,
   "id": "5a4b3486",
   "metadata": {
    "scrolled": true
   },
   "outputs": [],
   "source": [
    "gdf_neigh.head()"
   ]
  },
  {
   "cell_type": "code",
   "execution_count": null,
   "id": "b75f3e93",
   "metadata": {},
   "outputs": [],
   "source": [
    "type(gdf_neigh)"
   ]
  },
  {
   "cell_type": "code",
   "execution_count": null,
   "id": "ba762816",
   "metadata": {},
   "outputs": [],
   "source": [
    "gdf_neigh.crs"
   ]
  },
  {
   "cell_type": "code",
   "execution_count": null,
   "id": "e705c00f",
   "metadata": {
    "scrolled": false
   },
   "outputs": [],
   "source": [
    "gdf_neigh.to_crs(3857).area.sum()"
   ]
  },
  {
   "cell_type": "code",
   "execution_count": null,
   "id": "462650d7",
   "metadata": {},
   "outputs": [],
   "source": [
    "gdf_neigh.plot()"
   ]
  },
  {
   "cell_type": "markdown",
   "id": "354b39c2",
   "metadata": {},
   "source": [
    "## Read in the Construction Permit Files"
   ]
  },
  {
   "cell_type": "code",
   "execution_count": null,
   "id": "b89e8f15",
   "metadata": {},
   "outputs": [],
   "source": [
    "df_list = []\n",
    "for year, url in datasets.items():  \n",
    "    gdf = gpd.read_file(url)\n",
    "    gdf['year'] = year\n",
    "    \n",
    "    df_list.append(gdf)"
   ]
  },
  {
   "cell_type": "code",
   "execution_count": null,
   "id": "850736f2",
   "metadata": {},
   "outputs": [],
   "source": [
    "gdf = pd.concat(df_list)\n",
    "gdf.shape"
   ]
  },
  {
   "cell_type": "markdown",
   "id": "64f9730a",
   "metadata": {},
   "source": [
    "## Perform a spatial join to add cluster and neighborhood name to the permit data"
   ]
  },
  {
   "cell_type": "code",
   "execution_count": null,
   "id": "da234254",
   "metadata": {},
   "outputs": [],
   "source": [
    "gdf_join = gdf.sjoin(gdf_neigh[['NAME', 'NBH_NAMES', 'geometry']], how=\"left\", predicate=\"within\")"
   ]
  },
  {
   "cell_type": "code",
   "execution_count": null,
   "id": "b34ee49c",
   "metadata": {},
   "outputs": [],
   "source": [
    "gdf_join.head(2)"
   ]
  },
  {
   "cell_type": "markdown",
   "id": "e740f634",
   "metadata": {},
   "source": [
    "## Create a table of counts per cluster per year"
   ]
  },
  {
   "cell_type": "code",
   "execution_count": null,
   "id": "1d6e6409",
   "metadata": {},
   "outputs": [],
   "source": [
    "counts_by_year = gdf_join.value_counts(['year', 'NAME']).to_frame().reset_index().sort_values(['NAME', 'year'])"
   ]
  },
  {
   "cell_type": "code",
   "execution_count": null,
   "id": "7445817d",
   "metadata": {},
   "outputs": [],
   "source": [
    "counts_by_year.columns = ['year', 'cluster', 'permit_count']\n",
    "counts_by_year"
   ]
  },
  {
   "cell_type": "markdown",
   "id": "95918de3",
   "metadata": {},
   "source": [
    "## Convert that table into one row per cluster, with years as columns"
   ]
  },
  {
   "cell_type": "code",
   "execution_count": null,
   "id": "a8c8a205",
   "metadata": {},
   "outputs": [],
   "source": [
    "pivoted = counts_by_year.pivot(index=\"cluster\", columns='year', values='permit_count')"
   ]
  },
  {
   "cell_type": "code",
   "execution_count": null,
   "id": "696261bf",
   "metadata": {},
   "outputs": [],
   "source": [
    "pivoted_gdf = pd.merge(pivoted, gdf_neigh[['NAME', 'NBH_NAMES', 'geometry']], how=\"left\", left_index=True, right_on=\"NAME\")"
   ]
  },
  {
   "cell_type": "code",
   "execution_count": null,
   "id": "f3217959",
   "metadata": {},
   "outputs": [],
   "source": [
    "pivoted_gdf = gpd.GeoDataFrame(pivoted_gdf, geometry='geometry', crs=4326)"
   ]
  },
  {
   "cell_type": "code",
   "execution_count": null,
   "id": "4eba588d",
   "metadata": {},
   "outputs": [],
   "source": [
    "type(pivoted_gdf)"
   ]
  },
  {
   "cell_type": "markdown",
   "id": "271c707d",
   "metadata": {},
   "source": [
    "## Add the percent change from 2012 to 2021"
   ]
  },
  {
   "cell_type": "code",
   "execution_count": null,
   "id": "70eba366",
   "metadata": {},
   "outputs": [],
   "source": [
    "pivoted_gdf['perc_change'] = (pivoted_gdf['2021'] / pivoted_gdf['2012']) * 100 - 100"
   ]
  },
  {
   "cell_type": "code",
   "execution_count": null,
   "id": "c0ef9fde",
   "metadata": {},
   "outputs": [],
   "source": [
    "top_10 = pivoted_gdf.sort_values('perc_change', ascending=False).head(10)"
   ]
  },
  {
   "cell_type": "markdown",
   "id": "74d03cfd",
   "metadata": {},
   "source": [
    "## Plot the ten clusters with the highest 'Percent Change'"
   ]
  },
  {
   "cell_type": "code",
   "execution_count": null,
   "id": "212ebb95",
   "metadata": {},
   "outputs": [],
   "source": [
    "import matplotlib.pyplot as plt"
   ]
  },
  {
   "cell_type": "code",
   "execution_count": null,
   "id": "1e6cda6d",
   "metadata": {},
   "outputs": [],
   "source": [
    "years = top_10.columns[0:-4]\n",
    "years"
   ]
  },
  {
   "cell_type": "code",
   "execution_count": null,
   "id": "39c9976e",
   "metadata": {},
   "outputs": [],
   "source": [
    "plt.figure(figsize=(15, 5))\n",
    "\n",
    "for idx, row in top_10.iterrows():\n",
    "    plt.plot(years, row[years], label=row['NAME'])\n",
    "plt.legend()"
   ]
  },
  {
   "cell_type": "markdown",
   "id": "f83fdcd7",
   "metadata": {},
   "source": [
    "## Plot all neighborhood clusters as a map"
   ]
  },
  {
   "cell_type": "code",
   "execution_count": null,
   "id": "a6d9ad64",
   "metadata": {},
   "outputs": [],
   "source": [
    "pivoted_gdf.plot(column='perc_change', cmap='RdYlGn', legend=True, figsize=(10, 10))"
   ]
  },
  {
   "cell_type": "markdown",
   "id": "43cbb03c",
   "metadata": {},
   "source": [
    "# Write to file"
   ]
  },
  {
   "cell_type": "code",
   "execution_count": null,
   "id": "e0e28cf0",
   "metadata": {},
   "outputs": [],
   "source": [
    "pivoted_gdf.to_file(\"construction_counts_by_cluster_by_year.geojson\", driver=\"GeoJSON\")"
   ]
  },
  {
   "cell_type": "code",
   "execution_count": null,
   "id": "f0443fd4",
   "metadata": {},
   "outputs": [],
   "source": []
  },
  {
   "cell_type": "code",
   "execution_count": null,
   "id": "5cbc9896",
   "metadata": {},
   "outputs": [],
   "source": []
  },
  {
   "cell_type": "code",
   "execution_count": null,
   "id": "a53d85c6",
   "metadata": {},
   "outputs": [],
   "source": []
  },
  {
   "cell_type": "code",
   "execution_count": null,
   "id": "54b79e9c",
   "metadata": {},
   "outputs": [],
   "source": []
  }
 ],
 "metadata": {
  "celltoolbar": "Tags",
  "kernelspec": {
   "display_name": "geo_env",
   "language": "python",
   "name": "python3"
  },
  "language_info": {
   "codemirror_mode": {
    "name": "ipython",
    "version": 3
   },
   "file_extension": ".py",
   "mimetype": "text/x-python",
   "name": "python",
   "nbconvert_exporter": "python",
   "pygments_lexer": "ipython3",
   "version": "3.11.0"
  },
  "vscode": {
   "interpreter": {
    "hash": "4d112ac7d3883aab7deda3be613c488e976f410df7df3f0a4371232ef0ebd6bf"
   }
  }
 },
 "nbformat": 4,
 "nbformat_minor": 5
}
