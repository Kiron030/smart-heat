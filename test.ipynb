{
 "cells": [
  {
   "cell_type": "markdown",
   "id": "2327bbde",
   "metadata": {},
   "source": [
    "# Introduction to GeoPandas\n",
    "\n",
    "This notebook is self-contained, and has code used in the \"Intro to GeoPandas\" video on our [youtube channel](https://www.youtube.com/channel/UC34uByppapyrr-gubZMd9OQ).  Please feel free to reach out with any questions. \n",
    "\n",
    "Basis für dieses Notbook ist dieses Video: Geospatial Programming: Intro to GeoPandas \n",
    "https://www.youtube.com/watch?v=oFajY3FOq6A"
   ]
  },
  {
   "cell_type": "code",
   "execution_count": 1,
   "id": "cdea0a35",
   "metadata": {
    "scrolled": true,
    "tags": [
     "Importgruppe"
    ]
   },
   "outputs": [],
   "source": [
    "import pandas as pd\n",
    "import geopandas as gpd\n",
    "import papermill as pm"
   ]
  },
  {
   "cell_type": "code",
   "execution_count": null,
   "id": "dae00c40",
   "metadata": {},
   "outputs": [],
   "source": [
    "import geopandas as gpd\n",
    "\n",
    "# Load the energy consumption data for Berlin as a GeoDataFrame\n",
    "energy_data = gpd.read_file('https://raw.githubusercontent.com/OpenDataBerlin/dataset-energieverbrauch-berlin/master/energieverbrauch.geojson')\n",
    "\n",
    "# Set the coordinate reference system (CRS) to WGS 84 (EPSG:4326)\n",
    "energy_data.crs = {'init': 'epsg:4326'}\n",
    "\n",
    "# Print the first few rows of the energy data\n",
    "print(energy_data.head())\n",
    "\n",
    "# Group the energy data by neighborhood and sum the energy consumption\n",
    "energy_by_neighborhood = energy_data.groupby('gebaeude_typ').sum()\n",
    "\n",
    "# Print the energy consumption by neighborhood\n",
    "print(energy_by_neighborhood)\n",
    "\n",
    "# Plot the energy consumption data on a map of Berlin\n",
    "energy_data.plot(column='energieverbrauch', cmap='Reds', legend=True)"
   ]
  },
  {
   "cell_type": "markdown",
   "id": "3d48c826",
   "metadata": {},
   "source": [
    "### Hier ein Einschub für a. den Testeinsatz von Papermill und b. Lesen eines Shape-Files"
   ]
  },
  {
   "cell_type": "code",
   "execution_count": null,
   "id": "52ffc830",
   "metadata": {},
   "outputs": [],
   "source": [
    "pm.inspect_notebook(r\"C:\\Users\\User\\Desktop\\Workbench\\Programmieren\\Python\\GeoPandas\\Geopandas-main\\Geopandas-main\\Intro to Geopandas\\DC Construction.ipynb\")"
   ]
  },
  {
   "cell_type": "code",
   "execution_count": null,
   "id": "14d100df",
   "metadata": {},
   "outputs": [],
   "source": [
    "plz_berlin = gpd.read_file(r\"C:\\Users\\User\\Desktop\\Workbench\\GIS\\Tests für OpenData 11.2022\\Postleitzahlengebiete_-_Berlin\\PLZ_Berlin.shp\")"
   ]
  },
  {
   "cell_type": "code",
   "execution_count": null,
   "id": "59709a1b",
   "metadata": {},
   "outputs": [],
   "source": [
    "plz_berlin.sort_values(by=['SHAPE_Area'])"
   ]
  },
  {
   "cell_type": "code",
   "execution_count": null,
   "id": "44d66ecd",
   "metadata": {},
   "outputs": [],
   "source": [
    "type(plz_berlin)"
   ]
  },
  {
   "cell_type": "code",
   "execution_count": null,
   "id": "d12f67f8",
   "metadata": {},
   "outputs": [],
   "source": [
    "plz_berlin.head(30)"
   ]
  },
  {
   "cell_type": "code",
   "execution_count": null,
   "id": "4f488536",
   "metadata": {},
   "outputs": [],
   "source": [
    "plz_berlin.crs"
   ]
  },
  {
   "cell_type": "code",
   "execution_count": null,
   "id": "101fe7a9",
   "metadata": {
    "scrolled": true
   },
   "outputs": [],
   "source": [
    "plz_berlin.plot()"
   ]
  },
  {
   "cell_type": "markdown",
   "id": "d209480d",
   "metadata": {},
   "source": [
    "## Read in the Neighborhood Laydown"
   ]
  },
  {
   "cell_type": "code",
   "execution_count": null,
   "id": "0421fff5",
   "metadata": {},
   "outputs": [],
   "source": [
    "# Links to pull data from the DC OpenData portal\n",
    "\n",
    "neighborhood_laydown = \"https://opendata.arcgis.com/datasets/f6c703ebe2534fc3800609a07bad8f5b_17.geojson\"\n",
    "# If this url fails, you can download the geojson from here: https://dc.esri.com/datasets/dcdev::dc-neighborhood-clusters-1\"\n",
    "\n",
    "datasets = {\n",
    "    \"2021\": \"https://opendata.arcgis.com/datasets/da3da798fb4f4f0e9de5c3a17c39351f_10.geojson\",\n",
    "    \"2020\": \"https://opendata.arcgis.com/datasets/ac617c291bbd466bbbea6272f87811d3_8.geojson\",\n",
    "    \"2019\": \"https://opendata.arcgis.com/datasets/107f535e5d3347a8ac1e46dbc13669d4_6.geojson\",\n",
    "    \"2018\": \"https://opendata.arcgis.com/datasets/ca581e1b455a46caa266e3476f8205d2_0.geojson\",\n",
    "    \"2017\": \"https://opendata.arcgis.com/datasets/585c8c3ef58c4f1ab1ddf1c759b3a8bd_39.geojson\",\n",
    "    \"2016\": \"https://opendata.arcgis.com/datasets/2dc1a7dbb705471eb38af39acfa16238_28.geojson\", \n",
    "    \"2015\": \"https://opendata.arcgis.com/datasets/b3283607f9b74457aff420081eec3190_29.geojson\",\n",
    "    \"2014\": \"https://opendata.arcgis.com/datasets/54b57e15f6944af8b413a5e4f88b070c_13.geojson\",\n",
    "    \"2013\": \"https://opendata.arcgis.com/datasets/3d49e06d51984fa2b68f21eed21eba1f_14.geojson\",\n",
    "    \"2012\": \"https://opendata.arcgis.com/datasets/9cbe8553d4e2456ab6c140d83c7e83e0_15.geojson\"\n",
    "}"
   ]
  },
  {
   "cell_type": "code",
   "execution_count": null,
   "id": "9eb09548",
   "metadata": {},
   "outputs": [],
   "source": [
    "gdf_neigh = gpd.read_file(neighborhood_laydown)"
   ]
  },
  {
   "cell_type": "code",
   "execution_count": null,
   "id": "5a4b3486",
   "metadata": {
    "scrolled": true
   },
   "outputs": [],
   "source": [
    "gdf_neigh.head()"
   ]
  },
  {
   "cell_type": "code",
   "execution_count": null,
   "id": "b75f3e93",
   "metadata": {},
   "outputs": [],
   "source": [
    "type(gdf_neigh)"
   ]
  },
  {
   "cell_type": "code",
   "execution_count": null,
   "id": "ba762816",
   "metadata": {},
   "outputs": [],
   "source": [
    "gdf_neigh.crs"
   ]
  },
  {
   "cell_type": "code",
   "execution_count": null,
   "id": "e705c00f",
   "metadata": {
    "scrolled": false
   },
   "outputs": [],
   "source": [
    "gdf_neigh.to_crs(3857).area.sum()"
   ]
  },
  {
   "cell_type": "code",
   "execution_count": null,
   "id": "462650d7",
   "metadata": {},
   "outputs": [],
   "source": [
    "gdf_neigh.plot()"
   ]
  },
  {
   "cell_type": "markdown",
   "id": "354b39c2",
   "metadata": {},
   "source": [
    "## Read in the Construction Permit Files"
   ]
  },
  {
   "cell_type": "code",
   "execution_count": null,
   "id": "b89e8f15",
   "metadata": {},
   "outputs": [],
   "source": [
    "df_list = []\n",
    "for year, url in datasets.items():  \n",
    "    gdf = gpd.read_file(url)\n",
    "    gdf['year'] = year\n",
    "    \n",
    "    df_list.append(gdf)"
   ]
  },
  {
   "cell_type": "code",
   "execution_count": null,
   "id": "850736f2",
   "metadata": {},
   "outputs": [],
   "source": [
    "gdf = pd.concat(df_list)\n",
    "gdf.shape"
   ]
  },
  {
   "cell_type": "markdown",
   "id": "64f9730a",
   "metadata": {},
   "source": [
    "## Perform a spatial join to add cluster and neighborhood name to the permit data"
   ]
  },
  {
   "cell_type": "code",
   "execution_count": null,
   "id": "da234254",
   "metadata": {},
   "outputs": [],
   "source": [
    "gdf_join = gdf.sjoin(gdf_neigh[['NAME', 'NBH_NAMES', 'geometry']], how=\"left\", predicate=\"within\")"
   ]
  },
  {
   "cell_type": "code",
   "execution_count": null,
   "id": "b34ee49c",
   "metadata": {},
   "outputs": [],
   "source": [
    "gdf_join.head(2)"
   ]
  },
  {
   "cell_type": "markdown",
   "id": "e740f634",
   "metadata": {},
   "source": [
    "## Create a table of counts per cluster per year"
   ]
  },
  {
   "cell_type": "code",
   "execution_count": null,
   "id": "1d6e6409",
   "metadata": {},
   "outputs": [],
   "source": [
    "counts_by_year = gdf_join.value_counts(['year', 'NAME']).to_frame().reset_index().sort_values(['NAME', 'year'])"
   ]
  },
  {
   "cell_type": "code",
   "execution_count": null,
   "id": "7445817d",
   "metadata": {},
   "outputs": [],
   "source": [
    "counts_by_year.columns = ['year', 'cluster', 'permit_count']\n",
    "counts_by_year"
   ]
  },
  {
   "cell_type": "markdown",
   "id": "95918de3",
   "metadata": {},
   "source": [
    "## Convert that table into one row per cluster, with years as columns"
   ]
  },
  {
   "cell_type": "code",
   "execution_count": null,
   "id": "a8c8a205",
   "metadata": {},
   "outputs": [],
   "source": [
    "pivoted = counts_by_year.pivot(index=\"cluster\", columns='year', values='permit_count')"
   ]
  },
  {
   "cell_type": "code",
   "execution_count": null,
   "id": "696261bf",
   "metadata": {},
   "outputs": [],
   "source": [
    "pivoted_gdf = pd.merge(pivoted, gdf_neigh[['NAME', 'NBH_NAMES', 'geometry']], how=\"left\", left_index=True, right_on=\"NAME\")"
   ]
  },
  {
   "cell_type": "code",
   "execution_count": null,
   "id": "f3217959",
   "metadata": {},
   "outputs": [],
   "source": [
    "pivoted_gdf = gpd.GeoDataFrame(pivoted_gdf, geometry='geometry', crs=4326)"
   ]
  },
  {
   "cell_type": "code",
   "execution_count": null,
   "id": "4eba588d",
   "metadata": {},
   "outputs": [],
   "source": [
    "type(pivoted_gdf)"
   ]
  },
  {
   "cell_type": "markdown",
   "id": "271c707d",
   "metadata": {},
   "source": [
    "## Add the percent change from 2012 to 2021"
   ]
  },
  {
   "cell_type": "code",
   "execution_count": null,
   "id": "70eba366",
   "metadata": {},
   "outputs": [],
   "source": [
    "pivoted_gdf['perc_change'] = (pivoted_gdf['2021'] / pivoted_gdf['2012']) * 100 - 100"
   ]
  },
  {
   "cell_type": "code",
   "execution_count": null,
   "id": "c0ef9fde",
   "metadata": {},
   "outputs": [],
   "source": [
    "top_10 = pivoted_gdf.sort_values('perc_change', ascending=False).head(10)"
   ]
  },
  {
   "cell_type": "markdown",
   "id": "74d03cfd",
   "metadata": {},
   "source": [
    "## Plot the ten clusters with the highest 'Percent Change'"
   ]
  },
  {
   "cell_type": "code",
   "execution_count": null,
   "id": "212ebb95",
   "metadata": {},
   "outputs": [],
   "source": [
    "import matplotlib.pyplot as plt"
   ]
  },
  {
   "cell_type": "code",
   "execution_count": null,
   "id": "1e6cda6d",
   "metadata": {},
   "outputs": [],
   "source": [
    "years = top_10.columns[0:-4]\n",
    "years"
   ]
  },
  {
   "cell_type": "code",
   "execution_count": null,
   "id": "39c9976e",
   "metadata": {},
   "outputs": [],
   "source": [
    "plt.figure(figsize=(15, 5))\n",
    "\n",
    "for idx, row in top_10.iterrows():\n",
    "    plt.plot(years, row[years], label=row['NAME'])\n",
    "plt.legend()"
   ]
  },
  {
   "cell_type": "markdown",
   "id": "f83fdcd7",
   "metadata": {},
   "source": [
    "## Plot all neighborhood clusters as a map"
   ]
  },
  {
   "cell_type": "code",
   "execution_count": null,
   "id": "a6d9ad64",
   "metadata": {},
   "outputs": [],
   "source": [
    "pivoted_gdf.plot(column='perc_change', cmap='RdYlGn', legend=True, figsize=(10, 10))"
   ]
  },
  {
   "cell_type": "markdown",
   "id": "43cbb03c",
   "metadata": {},
   "source": [
    "# Write to file"
   ]
  },
  {
   "cell_type": "code",
   "execution_count": null,
   "id": "e0e28cf0",
   "metadata": {},
   "outputs": [],
   "source": [
    "pivoted_gdf.to_file(\"construction_counts_by_cluster_by_year.geojson\", driver=\"GeoJSON\")"
   ]
  },
  {
   "cell_type": "code",
   "execution_count": null,
   "id": "f0443fd4",
   "metadata": {},
   "outputs": [],
   "source": []
  },
  {
   "cell_type": "code",
   "execution_count": null,
   "id": "5cbc9896",
   "metadata": {},
   "outputs": [],
   "source": []
  },
  {
   "cell_type": "code",
   "execution_count": null,
   "id": "a53d85c6",
   "metadata": {},
   "outputs": [],
   "source": []
  },
  {
   "cell_type": "code",
   "execution_count": null,
   "id": "54b79e9c",
   "metadata": {},
   "outputs": [],
   "source": []
  }
 ],
 "metadata": {
  "celltoolbar": "Tags",
  "kernelspec": {
   "display_name": "Python 3 (ipykernel)",
   "language": "python",
   "name": "python3"
  },
  "language_info": {
   "codemirror_mode": {
    "name": "ipython",
    "version": 3
   },
   "file_extension": ".py",
   "mimetype": "text/x-python",
   "name": "python",
   "nbconvert_exporter": "python",
   "pygments_lexer": "ipython3",
   "version": "3.11.0"
  }
 },
 "nbformat": 4,
 "nbformat_minor": 5
}
